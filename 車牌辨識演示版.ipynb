# 安裝 EasyOCR 庫
!pip install easyocr

# 匯入所需的庫
import easyocr
import matplotlib.pyplot as plt
import cv2
from google.colab import files
from IPython.display import Image

# 允許使用者上傳圖像文件
uploaded = files.upload()

# 讀取上傳的圖像
image = cv2.imread(next(iter(uploaded)))

# 將圖像轉換為灰度圖像
gray = cv2.cvtColor(image, cv2.COLOR_BGR2GRAY) #框內的是色彩空間參數，它將圖由彩色轉灰度

# 對灰度圖像進行二值化處理
_, binary = cv2.threshold(gray, 150, 255, cv2.THRESH_BINARY_INV) #將灰度值大於150的轉白色(255) 灰度值小於等於150的轉黑色(0)

# 使用形態學膨脹操作增強文本區域
dilated = cv2.dilate(binary, None, iterations=2) #增強白色區域 次數為兩次

# 顯示處理後的圖像
plt.imshow(cv2.cvtColor(dilated, cv2.COLOR_BGR2RGB))
plt.show()

# 進行文字區域檢測，使用基於連通組件的方法
contours, _ = cv2.findContours(binary, cv2.RETR_EXTERNAL, cv2.CHAIN_APPROX_SIMPLE) #第一個表上面的二值化，第二個表只檢索最外部的輪廓，第三個只保留輪廓的端點以節省RAM

# 找到最大的幾個文字區域
num_regions = 10  # 指定要識別的最大文字區域數量
contours = sorted(contours, key=cv2.contourArea, reverse=True)[:num_regions]

# 創建 EasyOCR Reader 實例，配置以識別英文字母、數字和短劃線
ocr = easyocr.Reader(['en'])
resce = []

# 對每個文字區域進行識別
for contour in contours:
    x, y, w, h = cv2.boundingRect(contour)
    region = dilated[y:y+h, x:x+w]
    result = ocr.readtext(region, allowlist='ABCDEFGHIJKLMOPQRSPUVWXYZ1234567890-') ##Easyocr允許辨識的字元
    resce.extend(result) #將結果存在resce

# 存儲識別結果的有效車牌號碼
Anser = []

# 遍歷識別結果
for resceunpack in resce:
    license_plate = resceunpack[1]

    # 檢查識別結果的長度是否在6到9之間，通常是車牌號碼的長度範圍
    if 6 <= len(license_plate) <= 9:
        print(license_plate)
        Anser.append(license_plate)
    else:
        print("無車牌")

# 輸出有效車牌號碼列表
print(Anser)
